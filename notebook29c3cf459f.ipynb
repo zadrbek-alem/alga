{
 "cells": [
  {
   "cell_type": "code",
   "execution_count": 1,
   "id": "57f651ef",
   "metadata": {
    "_cell_guid": "b1076dfc-b9ad-4769-8c92-a6c4dae69d19",
    "_uuid": "8f2839f25d086af736a60e9eeb907d3b93b6e0e5",
    "execution": {
     "iopub.execute_input": "2025-06-24T07:25:41.533040Z",
     "iopub.status.busy": "2025-06-24T07:25:41.532737Z",
     "iopub.status.idle": "2025-06-24T07:25:43.107094Z",
     "shell.execute_reply": "2025-06-24T07:25:43.106248Z"
    },
    "papermill": {
     "duration": 1.579265,
     "end_time": "2025-06-24T07:25:43.108536",
     "exception": false,
     "start_time": "2025-06-24T07:25:41.529271",
     "status": "completed"
    },
    "tags": []
   },
   "outputs": [
    {
     "name": "stdout",
     "output_type": "stream",
     "text": [
      "/kaggle/input/fashion-mnist-itba/submission_sample.csv\n",
      "/kaggle/input/fashion-mnist-itba/fashion-mnist-itba-lab-ml-2018b.zip\n"
     ]
    }
   ],
   "source": [
    "# This Python 3 environment comes with many helpful analytics libraries installed\n",
    "# It is defined by the kaggle/python Docker image: https://github.com/kaggle/docker-python\n",
    "# For example, here's several helpful packages to load\n",
    "\n",
    "import numpy as np # linear algebra\n",
    "import pandas as pd # data processing, CSV file I/O (e.g. pd.read_csv)\n",
    "\n",
    "# Input data files are available in the read-only \"../input/\" directory\n",
    "# For example, running this (by clicking run or pressing Shift+Enter) will list all files under the input directory\n",
    "\n",
    "import os\n",
    "for dirname, _, filenames in os.walk('/kaggle/input'):\n",
    "    for filename in filenames:\n",
    "        print(os.path.join(dirname, filename))\n",
    "\n",
    "# You can write up to 20GB to the current directory (/kaggle/working/) that gets preserved as output when you create a version using \"Save & Run All\" \n",
    "# You can also write temporary files to /kaggle/temp/, but they won't be saved outside of the current session"
   ]
  },
  {
   "cell_type": "code",
   "execution_count": 2,
   "id": "43f58121",
   "metadata": {
    "execution": {
     "iopub.execute_input": "2025-06-24T07:25:43.113384Z",
     "iopub.status.busy": "2025-06-24T07:25:43.113050Z",
     "iopub.status.idle": "2025-06-24T07:25:44.062723Z",
     "shell.execute_reply": "2025-06-24T07:25:44.061947Z"
    },
    "papermill": {
     "duration": 0.95342,
     "end_time": "2025-06-24T07:25:44.064168",
     "exception": false,
     "start_time": "2025-06-24T07:25:43.110748",
     "status": "completed"
    },
    "tags": []
   },
   "outputs": [],
   "source": [
    "import zipfile\n",
    "path_to_zip_file = '/kaggle/input/fashion-mnist-itba/fashion-mnist-itba-lab-ml-2018b.zip'\n",
    "zipfile.ZipFile(path_to_zip_file, 'r').extractall('/kaggle/working/data')\n"
   ]
  },
  {
   "cell_type": "code",
   "execution_count": 3,
   "id": "e13c7cc2",
   "metadata": {
    "execution": {
     "iopub.execute_input": "2025-06-24T07:25:44.068911Z",
     "iopub.status.busy": "2025-06-24T07:25:44.068510Z",
     "iopub.status.idle": "2025-06-24T07:25:44.112169Z",
     "shell.execute_reply": "2025-06-24T07:25:44.111365Z"
    },
    "papermill": {
     "duration": 0.047416,
     "end_time": "2025-06-24T07:25:44.113608",
     "exception": false,
     "start_time": "2025-06-24T07:25:44.066192",
     "status": "completed"
    },
    "tags": []
   },
   "outputs": [],
   "source": [
    "X_train = np.load('/kaggle/working/data/train_images.npy')\n",
    "X_test = np.load('/kaggle/working/data/test_images.npy')\n",
    "y_train = pd.read_csv('/kaggle/working/data/train_labels.csv')['label'].values"
   ]
  },
  {
   "cell_type": "code",
   "execution_count": 4,
   "id": "5936d9cb",
   "metadata": {
    "execution": {
     "iopub.execute_input": "2025-06-24T07:25:44.121049Z",
     "iopub.status.busy": "2025-06-24T07:25:44.120573Z",
     "iopub.status.idle": "2025-06-24T07:25:44.354770Z",
     "shell.execute_reply": "2025-06-24T07:25:44.354085Z"
    },
    "papermill": {
     "duration": 0.239162,
     "end_time": "2025-06-24T07:25:44.355867",
     "exception": false,
     "start_time": "2025-06-24T07:25:44.116705",
     "status": "completed"
    },
    "tags": []
   },
   "outputs": [
    {
     "data": {
      "text/plain": [
       "<matplotlib.image.AxesImage at 0x7b9e3e3f7590>"
      ]
     },
     "execution_count": 4,
     "metadata": {},
     "output_type": "execute_result"
    },
    {
     "data": {
      "image/png": "[encoded data removed]",
      "text/plain": [
       "<Figure size 640x480 with 1 Axes>"
      ]
     },
     "metadata": {},
     "output_type": "display_data"
    }
   ],
   "source": [
    "import matplotlib.pyplot as plt\n",
    "plt.imshow(X_train[0])"
   ]
  },
  {
   "cell_type": "code",
   "execution_count": 5,
   "id": "fe60b3c5",
   "metadata": {
    "execution": {
     "iopub.execute_input": "2025-06-24T07:25:44.360904Z",
     "iopub.status.busy": "2025-06-24T07:25:44.360691Z",
     "iopub.status.idle": "2025-06-24T07:25:49.007844Z",
     "shell.execute_reply": "2025-06-24T07:25:49.007253Z"
    },
    "papermill": {
     "duration": 4.651238,
     "end_time": "2025-06-24T07:25:49.009293",
     "exception": false,
     "start_time": "2025-06-24T07:25:44.358055",
     "status": "completed"
    },
    "tags": []
   },
   "outputs": [],
   "source": [
    "import torch\n",
    "from torch.utils.data import Dataset, DataLoader\n",
    "import torch.optim as optim\n",
    "import torch.nn as nn"
   ]
  },
  {
   "cell_type": "code",
   "execution_count": 6,
   "id": "d7055919",
   "metadata": {
    "execution": {
     "iopub.execute_input": "2025-06-24T07:25:49.014554Z",
     "iopub.status.busy": "2025-06-24T07:25:49.014172Z",
     "iopub.status.idle": "2025-06-24T07:26:10.401509Z",
     "shell.execute_reply": "2025-06-24T07:26:10.400630Z"
    },
    "papermill": {
     "duration": 21.391258,
     "end_time": "2025-06-24T07:26:10.402822",
     "exception": false,
     "start_time": "2025-06-24T07:25:49.011564",
     "status": "completed"
    },
    "tags": []
   },
   "outputs": [
    {
     "name": "stdout",
     "output_type": "stream",
     "text": [
      "0.5589994293476727\n",
      "0.30207887018667356\n",
      "0.2532713531272244\n",
      "0.21874826344282133\n",
      "0.1830083479219154\n",
      "0.15582012578146034\n",
      "0.13426188115419738\n",
      "0.11562479210338358\n",
      "0.09781592247137891\n",
      "0.08375994066820978\n",
      "0.07473699160730407\n",
      "accuracy: 58413 60032 0.9730310501066098\n"
     ]
    }
   ],
   "source": [
    "images_x = torch.tensor(X_train, dtype = torch.float32).unsqueeze(1) / 255\n",
    "images_y = torch.tensor(y_train, dtype = torch.float32)\n",
    "images_y = images_y.type(torch.LongTensor)\n",
    "device = torch.device('cuda')\n",
    "class CNN(nn.Module):\n",
    "    def __init__(self):\n",
    "        super(CNN, self).__init__()\n",
    "        self.conv = nn.Sequential(\n",
    "            nn.Conv2d(1, 20, 3, padding=1),\n",
    "            nn.ReLU()\n",
    "        )\n",
    "        self.flatten = nn.Flatten()\n",
    "        self.edges1 = nn.Linear(28 * 28 * 20, 64)\n",
    "        self.edges2 = nn.Linear(64, 10)\n",
    "        self.activation = nn.Sigmoid()\n",
    "    def forward(self, x):\n",
    "        x = self.conv(x)\n",
    "        x = self.flatten(x)\n",
    "        x = self.edges1(x)\n",
    "        x = self.activation(x)\n",
    "        x = self.edges2(x)\n",
    "        return x\n",
    "class ComfortableData(Dataset):\n",
    "    def __init__(self, x, y):\n",
    "        self.x = x\n",
    "        self.y = y\n",
    "    def __getitem__(self, idd):\n",
    "        return self.x[idd], self.y[idd]\n",
    "    def __len__(self):\n",
    "        return len(self.x)\n",
    "comfort_data = ComfortableData(images_x, images_y)\n",
    "data_for_train = DataLoader(comfort_data, batch_size = 128, shuffle = True)\n",
    "model = CNN().to(device)\n",
    "cr = nn.CrossEntropyLoss()\n",
    "optimizer = optim.Adam(model.parameters(), lr = 0.01)\n",
    "epochs = 11\n",
    "corrects = 0\n",
    "for i in range(epochs):\n",
    "    cost = 0\n",
    "    for image, answer in data_for_train:\n",
    "        image = image.to(device)\n",
    "        answer = answer.to(device)\n",
    "        optimizer.zero_grad()\n",
    "        predictions = model(image)\n",
    "        error = cr(predictions, answer)\n",
    "        error.backward()\n",
    "        optimizer.step()\n",
    "        cost += error.item()\n",
    "        if i == epochs - 1:\n",
    "            for j in range(len(answer)):\n",
    "                # print(torch.argmax(predictions[j]).item(), answer[j].item())\n",
    "                if torch.argmax(predictions[j]).item() == answer[j].item():\n",
    "                    corrects += 1\n",
    "            # if counter < 1:\n",
    "            #     for j in range(len(answer)):\n",
    "            #         print(torch.argmax(predictions[j]).item())\n",
    "            #         img = image[j].view(28, 28)\n",
    "            #         plt.imshow(img, cmap='Blues')\n",
    "            #         plt.show()\n",
    "            #         counter += 1\n",
    "    \n",
    "    if i % 1 == 0:\n",
    "        print(cost/len(data_for_train))\n",
    "print(\"accuracy:\", corrects, len(data_for_train)*128, corrects / (len(data_for_train)*128))\n"
   ]
  },
  {
   "cell_type": "code",
   "execution_count": 7,
   "id": "9aaa6773",
   "metadata": {
    "execution": {
     "iopub.execute_input": "2025-06-24T07:26:10.409321Z",
     "iopub.status.busy": "2025-06-24T07:26:10.408969Z",
     "iopub.status.idle": "2025-06-24T07:26:10.937648Z",
     "shell.execute_reply": "2025-06-24T07:26:10.937037Z"
    },
    "papermill": {
     "duration": 0.533381,
     "end_time": "2025-06-24T07:26:10.939064",
     "exception": false,
     "start_time": "2025-06-24T07:26:10.405683",
     "status": "completed"
    },
    "tags": []
   },
   "outputs": [],
   "source": [
    "images_x = torch.tensor(X_test, dtype = torch.float32).unsqueeze(1) / 255\n",
    "images_y = []\n",
    "for y in range(len(X_test)):\n",
    "    images_y.append(y)\n",
    "images_y = torch.tensor(images_y, dtype = torch.float32)\n",
    "images_y = images_y.type(torch.LongTensor)\n",
    "comfort_data = ComfortableData(images_x, images_y)\n",
    "data_for_test = DataLoader(comfort_data, batch_size = 128, shuffle=True)\n",
    "\n",
    "corrects = 0\n",
    "ans = []\n",
    "for y in range(len(X_test)):\n",
    "    ans.append(0)\n",
    "for image, answer in data_for_test:\n",
    "    optimizer.zero_grad()\n",
    "    predictions = model(image.to(device))\n",
    "    for j in range(len(answer)):\n",
    "        ans[answer[j].item()] = (torch.argmax(predictions[j]).item())\n",
    "sub = pd.read_csv('/kaggle/input/fashion-mnist-itba/submission_sample.csv')\n",
    "sub['Category'] = ans\n",
    "sub.to_csv('submission.csv', index=False)\n"
   ]
  }
 ],
 "metadata": {
  "kaggle": {
   "accelerator": "gpu",
   "dataSources": [
    {
     "databundleVersionId": 495762,
     "sourceId": 14858,
     "sourceType": "competition"
    }
   ],
   "dockerImageVersionId": 31041,
   "isGpuEnabled": true,
   "isInternetEnabled": true,
   "language": "python",
   "sourceType": "notebook"
  },
  "kernelspec": {
   "display_name": "Python 3",
   "language": "python",
   "name": "python3"
  },
  "language_info": {
   "codemirror_mode": {
    "name": "ipython",
    "version": 3
   },
   "file_extension": ".py",
   "mimetype": "text/x-python",
   "name": "python",
   "nbconvert_exporter": "python",
   "pygments_lexer": "ipython3",
   "version": "3.11.11"
  },
  "papermill": {
   "default_parameters": {},
   "duration": 36.325537,
   "end_time": "2025-06-24T07:26:13.529842",
   "environment_variables": {},
   "exception": null,
   "input_path": "__notebook__.ipynb",
   "output_path": "__notebook__.ipynb",
   "parameters": {},
   "start_time": "2025-06-24T07:25:37.204305",
   "version": "2.6.0"
  }
 },
 "nbformat": 4,
 "nbformat_minor": 5
}
