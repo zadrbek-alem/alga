{
 "cells": [
  {
   "cell_type": "code",
   "execution_count": 28,
   "id": "03e02bff",
   "metadata": {},
   "outputs": [
    {
     "name": "stdout",
     "output_type": "stream",
     "text": [
      "Requirement already satisfied: matplotlib in ./.venv/lib/python3.13/site-packages (3.10.3)\n",
      "Requirement already satisfied: contourpy>=1.0.1 in ./.venv/lib/python3.13/site-packages (from matplotlib) (1.3.2)\n",
      "Requirement already satisfied: cycler>=0.10 in ./.venv/lib/python3.13/site-packages (from matplotlib) (0.12.1)\n",
      "Requirement already satisfied: fonttools>=4.22.0 in ./.venv/lib/python3.13/site-packages (from matplotlib) (4.58.4)\n",
      "Requirement already satisfied: kiwisolver>=1.3.1 in ./.venv/lib/python3.13/site-packages (from matplotlib) (1.4.8)\n",
      "Requirement already satisfied: numpy>=1.23 in ./.venv/lib/python3.13/site-packages (from matplotlib) (2.3.0)\n",
      "Requirement already satisfied: packaging>=20.0 in ./.venv/lib/python3.13/site-packages (from matplotlib) (25.0)\n",
      "Requirement already satisfied: pillow>=8 in ./.venv/lib/python3.13/site-packages (from matplotlib) (11.2.1)\n",
      "Requirement already satisfied: pyparsing>=2.3.1 in ./.venv/lib/python3.13/site-packages (from matplotlib) (3.2.3)\n",
      "Requirement already satisfied: python-dateutil>=2.7 in ./.venv/lib/python3.13/site-packages (from matplotlib) (2.9.0.post0)\n",
      "Requirement already satisfied: six>=1.5 in ./.venv/lib/python3.13/site-packages (from python-dateutil>=2.7->matplotlib) (1.17.0)\n",
      "Requirement already satisfied: numpy in ./.venv/lib/python3.13/site-packages (2.3.0)\n",
      "Requirement already satisfied: scipy in ./.venv/lib/python3.13/site-packages (1.15.3)\n",
      "Requirement already satisfied: numpy<2.5,>=1.23.5 in ./.venv/lib/python3.13/site-packages (from scipy) (2.3.0)\n"
     ]
    }
   ],
   "source": [
    "!pip install matplotlib\n",
    "!pip install numpy\n",
    "!pip install scipy"
   ]
  },
  {
   "cell_type": "code",
   "execution_count": 29,
   "id": "03e8df8c",
   "metadata": {},
   "outputs": [
    {
     "name": "stdout",
     "output_type": "stream",
     "text": [
      "Requirement already satisfied: pandas in ./.venv/lib/python3.13/site-packages (2.3.0)\n",
      "Requirement already satisfied: numpy>=1.26.0 in ./.venv/lib/python3.13/site-packages (from pandas) (2.3.0)\n",
      "Requirement already satisfied: python-dateutil>=2.8.2 in ./.venv/lib/python3.13/site-packages (from pandas) (2.9.0.post0)\n",
      "Requirement already satisfied: pytz>=2020.1 in ./.venv/lib/python3.13/site-packages (from pandas) (2025.2)\n",
      "Requirement already satisfied: tzdata>=2022.7 in ./.venv/lib/python3.13/site-packages (from pandas) (2025.2)\n",
      "Requirement already satisfied: six>=1.5 in ./.venv/lib/python3.13/site-packages (from python-dateutil>=2.8.2->pandas) (1.17.0)\n",
      "Requirement already satisfied: scikit-learn in ./.venv/lib/python3.13/site-packages (1.7.0)\n",
      "Requirement already satisfied: numpy>=1.22.0 in ./.venv/lib/python3.13/site-packages (from scikit-learn) (2.3.0)\n",
      "Requirement already satisfied: scipy>=1.8.0 in ./.venv/lib/python3.13/site-packages (from scikit-learn) (1.15.3)\n",
      "Requirement already satisfied: joblib>=1.2.0 in ./.venv/lib/python3.13/site-packages (from scikit-learn) (1.5.1)\n",
      "Requirement already satisfied: threadpoolctl>=3.1.0 in ./.venv/lib/python3.13/site-packages (from scikit-learn) (3.6.0)\n"
     ]
    }
   ],
   "source": [
    "!pip install pandas\n",
    "!pip install scikit-learn"
   ]
  },
  {
   "cell_type": "code",
   "execution_count": 30,
   "id": "2f47426e",
   "metadata": {},
   "outputs": [],
   "source": [
    "import matplotlib.pylab as plt\n",
    "import numpy as np\n",
    "from scipy.ndimage import rotate as scipy_rotate\n",
    "\n",
    "\n",
    "def show_image(image, title=None):\n",
    "    plt.imshow(image, cmap=plt.get_cmap('gray'))\n",
    "    if title is not None:\n",
    "        plt.title(title)\n",
    "    plt.show()\n",
    "\n",
    "def rotate(img: np.ndarray, angle: int) -> np.ndarray:\n",
    "    if not (-120 <= angle <= 120):\n",
    "        raise ValueError(\"Angle must be between -120 and 120 degrees.\")\n",
    "    \n",
    "    rotated_img = scipy_rotate(\n",
    "        img,\n",
    "        angle=angle,\n",
    "        reshape=False,      # сохраняем размер 28x28\n",
    "        order=1,            # билинейная интерполяция для аккуратного поворота\n",
    "        mode='constant',    # пиксели вне исходного изображения заполняются константой\n",
    "        cval=0.0            # заполняем черным (0)\n",
    "    )\n",
    "    return rotated_img\n",
    "\n",
    "\n",
    "import pandas as pd\n",
    "raw_train = pd.read_pickle('train.pkl')\n",
    "raw_test = pd.read_pickle('test.pkl')\n",
    "raw_submission = pd.read_csv('sample_submission.csv')"
   ]
  },
  {
   "cell_type": "code",
   "execution_count": 31,
   "id": "6827b65b",
   "metadata": {},
   "outputs": [],
   "source": [
    "class NoizeGenerator:\n",
    "    def __init__(\n",
    "        self,\n",
    "        discrete_noise_proba=0.02,\n",
    "        beta_alpha=0.3,\n",
    "        beta_beta=0.3,\n",
    "        gaussian_sigma=0.0,\n",
    "        shift_prob=1.0,\n",
    "        seed=None,\n",
    "    ):\n",
    "        \"\"\"\n",
    "        discrete_noise_proba: вероятность заменить пиксель значением из бета-распределения\n",
    "        beta_alpha, beta_beta: параметры бета-распределения (бимодальность при < 1)\n",
    "        gaussian_sigma: стандартное отклонение для нормального шума\n",
    "        shift_prob: вероятность случайного сдвига изображения на 1 пиксель\n",
    "        \"\"\"\n",
    "        self.discrete_noise_proba = discrete_noise_proba\n",
    "        self.beta_alpha = beta_alpha\n",
    "        self.beta_beta = beta_beta\n",
    "        self.gaussian_sigma = gaussian_sigma\n",
    "        self.shift_prob = shift_prob\n",
    "        self.rng = np.random.default_rng(seed)\n",
    "\n",
    "    def apply_beta_noise(self, img):\n",
    "        mask = self.rng.random(img.shape) < self.discrete_noise_proba\n",
    "        beta_noise = (\n",
    "            self.rng.beta(self.beta_alpha, self.beta_beta, size=img.shape) * 255\n",
    "        )\n",
    "        noisy_img = img.copy()\n",
    "        noisy_img[mask] = beta_noise[mask]\n",
    "        return noisy_img\n",
    "\n",
    "    def apply_gaussian_noise(self, img):\n",
    "        if self.gaussian_sigma > 0:\n",
    "            noise = self.rng.normal(loc=0.0, scale=self.gaussian_sigma, size=img.shape)\n",
    "            img = img + noise\n",
    "            img = np.clip(img, 0, 255)\n",
    "        return img\n",
    "\n",
    "    def apply_random_shift(self, img):\n",
    "        direction = self.rng.choice([\"up\", \"down\", \"left\", \"right\"])\n",
    "        shifted = np.zeros_like(img)\n",
    "\n",
    "        if direction == \"up\":\n",
    "            shifted[:-1, :] = img[1:, :]\n",
    "        elif direction == \"down\":\n",
    "            shifted[1:, :] = img[:-1, :]\n",
    "        elif direction == \"left\":\n",
    "            shifted[:, :-1] = img[:, 1:]\n",
    "        elif direction == \"right\":\n",
    "            shifted[:, 1:] = img[:, :-1]\n",
    "\n",
    "        return shifted\n",
    "\n",
    "    def transform_image(self, image):\n",
    "        tmp_image = image.astype(np.float32)\n",
    "        tmp_image = self.apply_beta_noise(tmp_image)\n",
    "        tmp_image = self.apply_gaussian_noise(tmp_image)\n",
    "\n",
    "        if self.rng.random() < self.shift_prob:\n",
    "            tmp_image = self.apply_random_shift(tmp_image)\n",
    "        return tmp_image.astype(np.uint8)\n",
    "\n",
    "    def transform_dataset(self, X):\n",
    "        n_samples = X.shape[0]\n",
    "        X_aug = np.zeros_like(X)\n",
    "\n",
    "        for i in range(n_samples):\n",
    "            img = self.transform_image(X[i].reshape(28, 28))\n",
    "            X_aug[i] = img.flatten()\n",
    "        return X_aug\n",
    "    \n",
    "\n",
    "noize_gen = NoizeGenerator(\n",
    "    discrete_noise_proba=0.2,\n",
    "    beta_alpha=0.3,\n",
    "    beta_beta=0.3,\n",
    "    gaussian_sigma=40,\n",
    "    shift_prob=1.0,\n",
    "    seed=1,\n",
    ")"
   ]
  },
  {
   "cell_type": "code",
   "execution_count": 32,
   "id": "ccc85e67",
   "metadata": {},
   "outputs": [],
   "source": [
    "def f(img):\n",
    "    tmp_image = img.copy()\n",
    "    tmp_image = noize_gen.apply_beta_noise(tmp_image)\n",
    "    tmp_image = noize_gen.apply_gaussian_noise(tmp_image)\n",
    "    return tmp_image"
   ]
  },
  {
   "cell_type": "code",
   "execution_count": 33,
   "id": "c18f15d8",
   "metadata": {},
   "outputs": [
    {
     "data": {
      "image/png": "[encoded data removed]",
      "text/plain": [
       "<Figure size 640x480 with 1 Axes>"
      ]
     },
     "metadata": {},
     "output_type": "display_data"
    },
    {
     "data": {
      "image/png": "[encoded data removed]",
      "text/plain": [
       "<Figure size 640x480 with 1 Axes>"
      ]
     },
     "metadata": {},
     "output_type": "display_data"
    }
   ],
   "source": [
    "show_image(raw_train.image.iloc[2], title=f\"Label {raw_train.label.iloc[2]}\")\n",
    "\n",
    "# raw_train['image'] = raw_train['image'].apply(f)\n",
    "\n",
    "show_image(raw_train.image.iloc[2], title=f\"Label {raw_train.label.iloc[2]}\")\n"
   ]
  },
  {
   "cell_type": "code",
   "execution_count": 34,
   "id": "0a5864f0",
   "metadata": {},
   "outputs": [],
   "source": [
    "import random\n",
    "import warnings\n",
    "warnings.filterwarnings('ignore')\n",
    "random.seed(0)\n",
    "ang = [-120, -90, -60, -30, 0, 30, 60, 90, 120]\n",
    "img_series = []\n",
    "for d in range(10):\n",
    "    img_series.append(raw_train[raw_train.label == d]['image'])\n",
    "new_train = []\n",
    "for d in range(10):\n",
    "    angs = []\n",
    "    for i in range(len(img_series[d])):\n",
    "        y = random.choice(ang)\n",
    "        img_series[d].iloc[i] = rotate(img_series[d].iloc[i], y)\n",
    "        angs.append(y)\n",
    "    new_train.append(pd.DataFrame(img_series[d]))\n",
    "    new_train[d]['angle'] = angs\n",
    "for d in range(10):\n",
    "    pixels_df = new_train[d]['image'].apply(lambda img: pd.Series(np.array(img).flatten()))\n",
    "\n",
    "    pixels_df.columns = [f'pixel_{i}' for i in range(784)]\n",
    "\n",
    "    new_train[d] = new_train[d].drop(columns=['image']).join(pixels_df)\n",
    "# new_train = pd.DataFrame(img_series)\n",
    "# new_train\n",
    "\n",
    "\n",
    "\n",
    "img_test = []\n",
    "for d in range(10):\n",
    "    img_test.append(raw_test[raw_test.label == d][['image']])\n",
    "new_test = []\n",
    "for d in range(10):\n",
    "    new_test.append(pd.DataFrame(img_test[d]))\n",
    "    pixels_df = new_test[d]['image'].apply(lambda img: pd.Series(np.array(img).flatten()))\n",
    "\n",
    "    pixels_df.columns = [f'pixel_{i}' for i in range(784)]\n",
    "\n",
    "    new_test[d] = new_test[d].drop(columns=['image']).join(pixels_df)\n",
    "# new_train = pd.DataFrame(img_series)\n",
    "\n",
    "\n",
    "\n",
    "    "
   ]
  },
  {
   "cell_type": "code",
   "execution_count": 35,
   "id": "55be35f2",
   "metadata": {},
   "outputs": [],
   "source": [
    "from sklearn.linear_model import *\n",
    "from sklearn.neighbors import *\n",
    "res = []\n",
    "for x in range(len(raw_test['label'])):\n",
    "    res.append(0)\n",
    "# res\n",
    "for d in range(10):\n",
    "    model = KNeighborsClassifier()\n",
    "    model.fit(new_train[d].drop(columns='angle'), new_train[d]['angle'])\n",
    "    ny = model.predict(new_test[d])\n",
    "    for t in range(len(ny)):\n",
    "        res[new_test[d].iloc[t].name] = ny[t]\n"
   ]
  },
  {
   "cell_type": "code",
   "execution_count": 36,
   "id": "271648b5",
   "metadata": {},
   "outputs": [],
   "source": [
    "raw_submission['angle'] = res\n",
    "raw_submission.to_csv('sumbission.csv', index=False)\n"
   ]
  },
  {
   "cell_type": "markdown",
   "id": "6b2ff707",
   "metadata": {},
   "source": []
  },
  {
   "cell_type": "code",
   "execution_count": 37,
   "id": "8b91d2e0",
   "metadata": {},
   "outputs": [
    {
     "data": {
      "image/png": "[encoded data removed]",
      "text/plain": [
       "<Figure size 640x480 with 1 Axes>"
      ]
     },
     "metadata": {},
     "output_type": "display_data"
    },
    {
     "data": {
      "image/png": "[encoded data removed]",
      "text/plain": [
       "<Figure size 640x480 with 1 Axes>"
      ]
     },
     "metadata": {},
     "output_type": "display_data"
    }
   ],
   "source": [
    "show_image(raw_test.image.iloc[0], title=f\"Label {raw_test.label.iloc[0]}\")\n",
    "\n",
    "show_image(rotate(raw_test.image.iloc[0], -60), title=f\"Label {raw_test.label.iloc[0]}\")\n"
   ]
  },
  {
   "cell_type": "code",
   "execution_count": null,
   "id": "d8c7baf6",
   "metadata": {},
   "outputs": [],
   "source": []
  }
 ],
 "metadata": {
  "kernelspec": {
   "display_name": ".venv",
   "language": "python",
   "name": "python3"
  },
  "language_info": {
   "codemirror_mode": {
    "name": "ipython",
    "version": 3
   },
   "file_extension": ".py",
   "mimetype": "text/x-python",
   "name": "python",
   "nbconvert_exporter": "python",
   "pygments_lexer": "ipython3",
   "version": "3.13.5"
  }
 },
 "nbformat": 4,
 "nbformat_minor": 5
}
