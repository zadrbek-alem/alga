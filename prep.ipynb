{
 "cells": [
  {
   "cell_type": "markdown",
   "id": "95e7775a",
   "metadata": {},
   "source": [
    "\n",
    "# Подготовка к соревнованиям на Kaggle\n",
    "\n",
    "Полезные модели, шаблоны кода и советы перед началом соревнования.\n"
   ]
  },
  {
   "cell_type": "markdown",
   "id": "60c4a975",
   "metadata": {},
   "source": [
    "\n",
    "## 1. Часто используемые модели\n",
    "- **LightGBM** – мощная и быстрая модель градиентного бустинга.\n",
    "- **XGBoost** – альтернатива LightGBM, популярная в табличных задачах.\n",
    "- **CatBoost** – отлично работает с категориальными признаками.\n",
    "- **Logistic Regression / Linear Regression** – простые и быстрые бейзлайны.\n",
    "- **Random Forest** – стабильная модель без сложной настройки.\n",
    "- **Neural Networks (Keras / PyTorch / TensorFlow)** – для изображений, текста и т.д.\n",
    "- **CNN / ResNet / EfficientNet / ViT** – для задач с изображениями.\n",
    "- **BERT / RoBERTa / LLMs** – для задач обработки текста (NLP).\n"
   ]
  },
  {
   "cell_type": "markdown",
   "id": "bb81c1c7",
   "metadata": {},
   "source": [
    "## 2. Полезные шаблоны кода"
   ]
  },
  {
   "cell_type": "code",
   "execution_count": null,
   "id": "b4f18304",
   "metadata": {},
   "outputs": [],
   "source": [
    "\n",
    "import pandas as pd\n",
    "train = pd.read_csv('train.csv')\n",
    "test = pd.read_csv('test.csv')\n"
   ]
  },
  {
   "cell_type": "code",
   "execution_count": null,
   "id": "d154209f",
   "metadata": {},
   "outputs": [],
   "source": [
    "\n",
    "from sklearn.preprocessing import LabelEncoder\n",
    "le = LabelEncoder()\n",
    "train['category'] = le.fit_transform(train['category'])\n"
   ]
  },
  {
   "cell_type": "code",
   "execution_count": null,
   "id": "4b1ce77f",
   "metadata": {},
   "outputs": [],
   "source": [
    "\n",
    "from sklearn.model_selection import train_test_split\n",
    "X_train, X_val, y_train, y_val = train_test_split(X, y, test_size=0.2, random_state=42)\n"
   ]
  },
  {
   "cell_type": "code",
   "execution_count": null,
   "id": "63841d34",
   "metadata": {},
   "outputs": [],
   "source": [
    "\n",
    "import lightgbm as lgb\n",
    "model = lgb.LGBMClassifier()\n",
    "model.fit(X_train, y_train)\n"
   ]
  },
  {
   "cell_type": "code",
   "execution_count": null,
   "id": "ef2cb42a",
   "metadata": {},
   "outputs": [],
   "source": [
    "\n",
    "preds = model.predict(test)\n",
    "submission = pd.DataFrame({'id': test['id'], 'target': preds})\n",
    "submission.to_csv('submission.csv', index=False)\n"
   ]
  },
  {
   "cell_type": "markdown",
   "id": "eb6a36de",
   "metadata": {},
   "source": [
    "\n",
    "## 3. Полезные советы\n",
    "- **Начинай с бейзлайна.**\n",
    "- **Обработка данных важнее, чем кажется.**\n",
    "- **Валидация — ключ к успеху.**\n",
    "- **Изучай чужие ноутбуки.**\n",
    "- **Сохраняй прогресс (git, checkpoints).**\n",
    "- **Следи за разницей между Public и Private leaderboard.**\n"
   ]
  }
 ],
 "metadata": {},
 "nbformat": 4,
 "nbformat_minor": 5
}
